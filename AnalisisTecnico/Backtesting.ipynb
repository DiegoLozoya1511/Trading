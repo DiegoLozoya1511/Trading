{
 "cells": [
  {
   "cell_type": "markdown",
   "metadata": {},
   "source": [
    "- Comisiones = 0.125%\n",
    "- No hay Impuestos\n",
    "- Margin Account = 50% \n",
    "- $ 1,000,000 USD Cash\n",
    "- N Shares = 50\n",
    "- Stop Loss, Take Profit = 6%\n",
    "- Buy/Sell at close\n",
    "- Borrow Rate = 0.25%"
   ]
  },
  {
   "cell_type": "code",
   "execution_count": 15,
   "metadata": {},
   "outputs": [],
   "source": [
    "import pandas as pd\n",
    "import matplotlib.pyplot as plt\n",
    "import seaborn as sns\n",
    "import ta\n",
    "from dataclasses import dataclass\n",
    "\n",
    "sns.set_theme()"
   ]
  },
  {
   "cell_type": "code",
   "execution_count": 16,
   "metadata": {},
   "outputs": [
    {
     "data": {
      "text/html": [
       "<div>\n",
       "<style scoped>\n",
       "    .dataframe tbody tr th:only-of-type {\n",
       "        vertical-align: middle;\n",
       "    }\n",
       "\n",
       "    .dataframe tbody tr th {\n",
       "        vertical-align: top;\n",
       "    }\n",
       "\n",
       "    .dataframe thead th {\n",
       "        text-align: right;\n",
       "    }\n",
       "</style>\n",
       "<table border=\"1\" class=\"dataframe\">\n",
       "  <thead>\n",
       "    <tr style=\"text-align: right;\">\n",
       "      <th></th>\n",
       "      <th>Unnamed: 0</th>\n",
       "      <th>Timestamp</th>\n",
       "      <th>Gmtoffset</th>\n",
       "      <th>Datetime</th>\n",
       "      <th>Open</th>\n",
       "      <th>High</th>\n",
       "      <th>Low</th>\n",
       "      <th>Close</th>\n",
       "      <th>Volume</th>\n",
       "    </tr>\n",
       "  </thead>\n",
       "  <tbody>\n",
       "    <tr>\n",
       "      <th>0</th>\n",
       "      <td>0</td>\n",
       "      <td>1609770600</td>\n",
       "      <td>0</td>\n",
       "      <td>2021-01-04 14:30:00</td>\n",
       "      <td>133.570007</td>\n",
       "      <td>133.611602</td>\n",
       "      <td>132.389999</td>\n",
       "      <td>132.809997</td>\n",
       "      <td>6624663.0</td>\n",
       "    </tr>\n",
       "    <tr>\n",
       "      <th>1</th>\n",
       "      <td>1</td>\n",
       "      <td>1609770900</td>\n",
       "      <td>0</td>\n",
       "      <td>2021-01-04 14:35:00</td>\n",
       "      <td>132.750000</td>\n",
       "      <td>132.750000</td>\n",
       "      <td>131.809997</td>\n",
       "      <td>131.889999</td>\n",
       "      <td>2541553.0</td>\n",
       "    </tr>\n",
       "    <tr>\n",
       "      <th>2</th>\n",
       "      <td>2</td>\n",
       "      <td>1609771200</td>\n",
       "      <td>0</td>\n",
       "      <td>2021-01-04 14:40:00</td>\n",
       "      <td>131.500000</td>\n",
       "      <td>132.339996</td>\n",
       "      <td>131.500000</td>\n",
       "      <td>132.059997</td>\n",
       "      <td>2492415.0</td>\n",
       "    </tr>\n",
       "    <tr>\n",
       "      <th>3</th>\n",
       "      <td>3</td>\n",
       "      <td>1609771500</td>\n",
       "      <td>0</td>\n",
       "      <td>2021-01-04 14:45:00</td>\n",
       "      <td>132.000000</td>\n",
       "      <td>132.250000</td>\n",
       "      <td>131.899993</td>\n",
       "      <td>132.250000</td>\n",
       "      <td>1859131.0</td>\n",
       "    </tr>\n",
       "    <tr>\n",
       "      <th>4</th>\n",
       "      <td>4</td>\n",
       "      <td>1609771800</td>\n",
       "      <td>0</td>\n",
       "      <td>2021-01-04 14:50:00</td>\n",
       "      <td>132.000000</td>\n",
       "      <td>132.018096</td>\n",
       "      <td>131.520004</td>\n",
       "      <td>131.589996</td>\n",
       "      <td>1780105.0</td>\n",
       "    </tr>\n",
       "  </tbody>\n",
       "</table>\n",
       "</div>"
      ],
      "text/plain": [
       "   Unnamed: 0   Timestamp  Gmtoffset             Datetime        Open  \\\n",
       "0           0  1609770600          0  2021-01-04 14:30:00  133.570007   \n",
       "1           1  1609770900          0  2021-01-04 14:35:00  132.750000   \n",
       "2           2  1609771200          0  2021-01-04 14:40:00  131.500000   \n",
       "3           3  1609771500          0  2021-01-04 14:45:00  132.000000   \n",
       "4           4  1609771800          0  2021-01-04 14:50:00  132.000000   \n",
       "\n",
       "         High         Low       Close     Volume  \n",
       "0  133.611602  132.389999  132.809997  6624663.0  \n",
       "1  132.750000  131.809997  131.889999  2541553.0  \n",
       "2  132.339996  131.500000  132.059997  2492415.0  \n",
       "3  132.250000  131.899993  132.250000  1859131.0  \n",
       "4  132.018096  131.520004  131.589996  1780105.0  "
      ]
     },
     "execution_count": 16,
     "metadata": {},
     "output_type": "execute_result"
    }
   ],
   "source": [
    "data = pd.read_csv('Data/aapl_5m_train.csv')\n",
    "data.head()"
   ]
  },
  {
   "cell_type": "code",
   "execution_count": 17,
   "metadata": {},
   "outputs": [],
   "source": [
    "rsi_indicator = ta.momentum.RSIIndicator(data.Close, window=15)\n",
    "\n",
    "data['rsi'] = rsi_indicator.rsi()\n",
    "data['buy_signal'] = data['rsi'] < 16\n",
    "data['sell_signal'] = data['rsi'] > 80\n",
    "\n",
    "data = data.dropna()\n"
   ]
  },
  {
   "cell_type": "code",
   "execution_count": 18,
   "metadata": {},
   "outputs": [],
   "source": [
    "COM = 0.125 / 100\n",
    "BORROR_RATE = 0.25 / 100\n",
    "\n",
    "# DOF\n",
    "STOP_LOSS = 0.1\n",
    "TAKE_PROFIT = 0.1\n",
    "N_SHARES = 500\n",
    "\n",
    "capital = 1_000_000\n",
    "active_long_positions = []"
   ]
  },
  {
   "cell_type": "code",
   "execution_count": 19,
   "metadata": {},
   "outputs": [],
   "source": [
    "@dataclass\n",
    "class Position:\n",
    "     \"\"\"\n",
    "     Data class for a trading position\n",
    "     \"\"\"\n",
    "     ticker: str\n",
    "     n_shares: int\n",
    "     price: float\n",
    "     sl: float\n",
    "     tp: float\n",
    "     time: str"
   ]
  },
  {
   "cell_type": "code",
   "execution_count": 20,
   "metadata": {},
   "outputs": [
    {
     "name": "stdout",
     "output_type": "stream",
     "text": [
      "$1,358,884.47\n"
     ]
    }
   ],
   "source": [
    "for i, row in data.iterrows():\n",
    "     # --- LONG --- #\n",
    "     # Check active orders\n",
    "     for position in active_long_positions.copy():\n",
    "          # Stop loss or take profit check\n",
    "          if row.Close > position.tp or row.Close < position.sl:\n",
    "               # Add profit / losses to capital\n",
    "               capital += row.Close * position.n_shares * (1 - COM)\n",
    "               # Remove position from active pos\n",
    "               active_long_positions.remove(position)\n",
    "\n",
    "     # Check Signal\n",
    "     if row.buy_signal:\n",
    "          cost = row.Close * N_SHARES * (1 + COM)\n",
    "          # Do we have enough cash?\n",
    "          if capital > cost:\n",
    "               # Discount cash\n",
    "               capital -= cost\n",
    "               # Add position to portfolio\n",
    "               pos = Position(ticker = 'AAPL', n_shares = N_SHARES, price = row.Close, \n",
    "                              sl = row.Close * (1 - STOP_LOSS), tp = row.Close * (1 + TAKE_PROFIT),\n",
    "                              time = row.Datetime)\n",
    "               active_long_positions.append(pos)\n",
    "\n",
    "# At the end of the backtesting, we should close all active positions\n",
    "capital += row.Close * len(active_long_positions) * N_SHARES * (1 - COM)\n",
    "active_long_positions = []\n",
    "\n",
    "print(f'${capital:,.2f}')"
   ]
  },
  {
   "cell_type": "code",
   "execution_count": null,
   "metadata": {},
   "outputs": [],
   "source": []
  }
 ],
 "metadata": {
  "kernelspec": {
   "display_name": "base",
   "language": "python",
   "name": "python3"
  },
  "language_info": {
   "codemirror_mode": {
    "name": "ipython",
    "version": 3
   },
   "file_extension": ".py",
   "mimetype": "text/x-python",
   "name": "python",
   "nbconvert_exporter": "python",
   "pygments_lexer": "ipython3",
   "version": "3.12.7"
  }
 },
 "nbformat": 4,
 "nbformat_minor": 2
}
